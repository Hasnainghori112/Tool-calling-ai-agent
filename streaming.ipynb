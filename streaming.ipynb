{
  "nbformat": 4,
  "nbformat_minor": 0,
  "metadata": {
    "colab": {
      "provenance": [],
      "authorship_tag": "ABX9TyNe3XSdoYkzG4afkgrPkTyl",
      "include_colab_link": true
    },
    "kernelspec": {
      "name": "python3",
      "display_name": "Python 3"
    },
    "language_info": {
      "name": "python"
    }
  },
  "cells": [
    {
      "cell_type": "markdown",
      "metadata": {
        "id": "view-in-github",
        "colab_type": "text"
      },
      "source": [
        "<a href=\"https://colab.research.google.com/github/Hasnainghori112/Tool-calling-ai-agent/blob/main/streaming.ipynb\" target=\"_parent\"><img src=\"https://colab.research.google.com/assets/colab-badge.svg\" alt=\"Open In Colab\"/></a>"
      ]
    },
    {
      "cell_type": "code",
      "execution_count": 1,
      "metadata": {
        "id": "VyF_tWgrwojK",
        "colab": {
          "base_uri": "https://localhost:8080/"
        },
        "outputId": "2cb5fb68-8a67-4f30-cd14-f91f44305bb6"
      },
      "outputs": [
        {
          "output_type": "stream",
          "name": "stdout",
          "text": [
            "\u001b[?25l   \u001b[90m━━━━━━━━━━━━━━━━━━━━━━━━━━━━━━━━━━━━━━━━\u001b[0m \u001b[32m0.0/116.9 kB\u001b[0m \u001b[31m?\u001b[0m eta \u001b[36m-:--:--\u001b[0m\r\u001b[2K   \u001b[90m━━━━━━━━━━━━━━━━━━━━━━━━━━━━━━━━━━━━━━━━\u001b[0m \u001b[32m116.9/116.9 kB\u001b[0m \u001b[31m5.1 MB/s\u001b[0m eta \u001b[36m0:00:00\u001b[0m\n",
            "\u001b[2K   \u001b[90m━━━━━━━━━━━━━━━━━━━━━━━━━━━━━━━━━━━━━━━━\u001b[0m \u001b[32m129.3/129.3 kB\u001b[0m \u001b[31m6.4 MB/s\u001b[0m eta \u001b[36m0:00:00\u001b[0m\n",
            "\u001b[2K   \u001b[90m━━━━━━━━━━━━━━━━━━━━━━━━━━━━━━━━━━━━━━━━\u001b[0m \u001b[32m119.5/119.5 kB\u001b[0m \u001b[31m6.7 MB/s\u001b[0m eta \u001b[36m0:00:00\u001b[0m\n",
            "\u001b[2K   \u001b[90m━━━━━━━━━━━━━━━━━━━━━━━━━━━━━━━━━━━━━━━━\u001b[0m \u001b[32m44.4/44.4 kB\u001b[0m \u001b[31m2.6 MB/s\u001b[0m eta \u001b[36m0:00:00\u001b[0m\n",
            "\u001b[2K   \u001b[90m━━━━━━━━━━━━━━━━━━━━━━━━━━━━━━━━━━━━━━━━\u001b[0m \u001b[32m72.0/72.0 kB\u001b[0m \u001b[31m2.5 MB/s\u001b[0m eta \u001b[36m0:00:00\u001b[0m\n",
            "\u001b[2K   \u001b[90m━━━━━━━━━━━━━━━━━━━━━━━━━━━━━━━━━━━━━━━━\u001b[0m \u001b[32m62.5/62.5 kB\u001b[0m \u001b[31m2.1 MB/s\u001b[0m eta \u001b[36m0:00:00\u001b[0m\n",
            "\u001b[?25h"
          ]
        }
      ],
      "source": [
        "!pip install -Uq openai-agents\n"
      ]
    },
    {
      "cell_type": "code",
      "source": [
        "import nest_asyncio\n",
        "nest_asyncio.apply()"
      ],
      "metadata": {
        "id": "dC5fLSfmxVtp"
      },
      "execution_count": 2,
      "outputs": []
    },
    {
      "cell_type": "code",
      "source": [
        "import os\n",
        "from agents import Agent, Runner,  ItemHelpers,AsyncOpenAI, OpenAIChatCompletionsModel\n",
        "from agents.run import RunConfig\n",
        "from google.colab import userdata\n",
        "import requests\n",
        "from agents import function_tool\n",
        "\n",
        "from agents import (\n",
        "    Agent,\n",
        "    Runner,\n",
        "    set_default_openai_api,\n",
        "    set_default_openai_client,\n",
        "    set_tracing_disabled,\n",
        ")\n",
        "\n",
        "gemini_api_key = userdata.get(\"GOOGLE_API_KEY\")\n",
        "\n",
        "\n",
        "# Check if the API key is present; if not, raise an error\n",
        "if not gemini_api_key:\n",
        "    raise ValueError(\"GEMINI_API_KEY is not set. Please ensure it is defined in your .env file.\")\n",
        "\n",
        "#Reference: https://ai.google.dev/gemini-api/docs/openai\n",
        "external_client = AsyncOpenAI(\n",
        "    api_key=gemini_api_key,\n",
        "    base_url=\"https://generativelanguage.googleapis.com/v1beta/openai/\",\n",
        ")\n",
        "\n",
        "model = OpenAIChatCompletionsModel(\n",
        "    model=\"gemini-2.0-flash\",\n",
        "    openai_client=external_client\n",
        ")\n",
        "\n",
        "set_default_openai_client(client=external_client, use_for_tracing=False)\n",
        "set_default_openai_api(\"chat_completions\")\n",
        "set_tracing_disabled(disabled=True)"
      ],
      "metadata": {
        "id": "VstE6Xoxf7MS"
      },
      "execution_count": 4,
      "outputs": []
    },
    {
      "cell_type": "code",
      "source": [
        "@function_tool\n",
        "def getWeather(city: str) -> str:\n",
        "    \"\"\"\n",
        "    Get the weather for a given city.\n",
        "    \"\"\"\n",
        "    # Replace with your actual weather API URL and key\n",
        "    result = requests.get(f\"http://api.weatherapi.com/v1/current.json?key=8e3aca2b91dc4342a1162608252604&q={city}\")\n",
        "\n",
        "    if result.status_code == 200:\n",
        "        data = result.json()\n",
        "        return f\"The weather in {city} is {data['current']['temp_c']}°C with {data['current']['condition']['text']}.\"\n",
        "    else:\n",
        "        return \"Sorry, I couldn't fetch the weather data.\"\n",
        "\n"
      ],
      "metadata": {
        "id": "RR8dzOZVxheD"
      },
      "execution_count": 5,
      "outputs": []
    },
    {
      "cell_type": "code",
      "source": [
        "import asyncio\n",
        "Assistant = Agent(\n",
        "    name = \"assistant\",\n",
        "    instructions= \"\"\"You are a helpful and knowledgeable assistant.\n",
        "                      Your role is to answer all user questions accurately and clearly, whether they relate to general knowledge, current events, or specific tasks.\n",
        "                      You may use available tools when necessary to enhance your responses, ensuring the user receives the most relevant and up-to-date information.\n",
        "                      Always aim to be concise, informative, and easy to understand.\"\"\",\n",
        "    tools = [getWeather],\n",
        "    model=model\n",
        ")\n",
        "\n",
        "async def main():\n",
        "  result =  Runner.run_streamed(Assistant,\"write in 100 lines summary of pakistan and  get the current weather of his capital\")\n",
        "  async for event in result.stream_events():\n",
        "    if event.type == \"raw_response_event\":\n",
        "      continue\n",
        "      print(event)\n",
        "    elif event.type == \"agent_updated_stream_event\":\n",
        "      print(f\"Agent updated: {event.new_agent.name}\")\n",
        "      continue\n",
        "    elif event.type == \"run_item_stream_event\":\n",
        "      if event.item.type == \"tool_call_item\":\n",
        "        print(\"-- Tool was called\")\n",
        "      elif event.item.type == \"tool_call_output_item\":\n",
        "        print(f\"-- Tool output: {event.item.output}\")\n",
        "      elif event.item.type == \"message_output_item\":\n",
        "         print(f\"-- Message output:\\n {ItemHelpers.text_message_output(event.item)}\" )\n",
        "      else:\n",
        "        pass\n",
        "asyncio.run(main())"
      ],
      "metadata": {
        "id": "383Q7khd0SAK",
        "colab": {
          "base_uri": "https://localhost:8080/"
        },
        "outputId": "fe297bea-0b98-4376-b7df-b5a4c8286e30"
      },
      "execution_count": 9,
      "outputs": [
        {
          "output_type": "stream",
          "name": "stdout",
          "text": [
            "Agent updated: assistant\n",
            "-- Message output:\n",
            " Pakistan, officially the Islamic Republic of Pakistan, is a country in South Asia. It is the fifth-most populous country in the world, with a population exceeding 240 million. Pakistan has a diverse landscape, including deserts, forests, mountains, and coastlines. The country's economy is the 24th-largest in the world in terms of purchasing power parity, and is classified as a developing nation. Pakistan has a complex history, gaining independence from British India in 1947. It has a parliamentary republic form of government.\n",
            "\n",
            "-- Tool was called\n",
            "-- Tool output: The weather in Islamabad is 32.4°C with Sunny.\n",
            "-- Message output:\n",
            " The current weather in Islamabad is 32.4°C with Sunny conditions.\n",
            "\n"
          ]
        }
      ]
    },
    {
      "cell_type": "code",
      "source": [
        "\n"
      ],
      "metadata": {
        "id": "z7VCN77GcF7H"
      },
      "execution_count": null,
      "outputs": []
    }
  ]
}